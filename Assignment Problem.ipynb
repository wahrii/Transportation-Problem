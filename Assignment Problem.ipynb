{
 "cells": [
  {
   "cell_type": "code",
   "execution_count": 1,
   "id": "76c91ab9",
   "metadata": {},
   "outputs": [],
   "source": [
    "from pulp import *"
   ]
  },
  {
   "cell_type": "code",
   "execution_count": 2,
   "id": "d6926860",
   "metadata": {},
   "outputs": [],
   "source": [
    "#data\n",
    "mesin =[1,2,3,4]\n",
    "job   =['job1','job2','job3','job4']\n"
   ]
  },
  {
   "cell_type": "code",
   "execution_count": 3,
   "id": "f8659d5b",
   "metadata": {},
   "outputs": [],
   "source": [
    "waktu ={1:{'job1':14,'job2':5,'job3':8,'job4':7},\n",
    "        2:{'job1':2,'job2':12,'job3':6,'job4':5},\n",
    "        3:{'job1':7,'job2':8,'job3':3,'job4':9},\n",
    "        4:{'job1':2,'job2':4,'job3':6,'job4':10}}"
   ]
  },
  {
   "cell_type": "code",
   "execution_count": 6,
   "id": "f668fe78",
   "metadata": {},
   "outputs": [
    {
     "name": "stderr",
     "output_type": "stream",
     "text": [
      "C:\\Python\\lib\\site-packages\\pulp\\pulp.py:1199: UserWarning: Spaces are not permitted in the name. Converted to '_'\n",
      "  warnings.warn(\"Spaces are not permitted in the name. Converted to '_'\")\n"
     ]
    }
   ],
   "source": [
    "prob =LpProblem('total setup time needed complete the four job',LpMinimize)"
   ]
  },
  {
   "cell_type": "code",
   "execution_count": 7,
   "id": "cc14531b",
   "metadata": {},
   "outputs": [],
   "source": [
    "rute = [(i,j) for i in mesin for j in job]"
   ]
  },
  {
   "cell_type": "code",
   "execution_count": 8,
   "id": "55652d3a",
   "metadata": {},
   "outputs": [],
   "source": [
    "#variabel\n",
    "var =LpVariable.dicts('waktu',(mesin,job),0,cat=LpInteger)"
   ]
  },
  {
   "cell_type": "code",
   "execution_count": 9,
   "id": "383b5b8a",
   "metadata": {},
   "outputs": [],
   "source": [
    "#fungsi objektif\n",
    "prob += lpSum(var[i][j]*waktu[i][j] for (i,j) in rute)"
   ]
  },
  {
   "cell_type": "code",
   "execution_count": 10,
   "id": "b729edfd",
   "metadata": {},
   "outputs": [],
   "source": [
    "#kendala\n",
    "for i in mesin:\n",
    "    prob += lpSum(var[i][j] for j in job)== 1\n",
    "for j in job:\n",
    "    prob += lpSum(var[i][j] for i in mesin)==1"
   ]
  },
  {
   "cell_type": "code",
   "execution_count": 11,
   "id": "ff397d8f",
   "metadata": {},
   "outputs": [
    {
     "data": {
      "text/plain": [
       "1"
      ]
     },
     "execution_count": 11,
     "metadata": {},
     "output_type": "execute_result"
    }
   ],
   "source": [
    "prob.solve()"
   ]
  },
  {
   "cell_type": "code",
   "execution_count": 12,
   "id": "a2f0fc9d",
   "metadata": {},
   "outputs": [
    {
     "name": "stdout",
     "output_type": "stream",
     "text": [
      "Status Optimal\n"
     ]
    }
   ],
   "source": [
    "print('Status',LpStatus[prob.status])"
   ]
  },
  {
   "cell_type": "code",
   "execution_count": 14,
   "id": "844ca49b",
   "metadata": {},
   "outputs": [
    {
     "name": "stdout",
     "output_type": "stream",
     "text": [
      "waktu_1_job2 = 1.0\n",
      "waktu_2_job4 = 1.0\n",
      "waktu_3_job3 = 1.0\n",
      "waktu_4_job1 = 1.0\n"
     ]
    }
   ],
   "source": [
    "for v in prob.variables():\n",
    "    if v.varValue > 0 :\n",
    "        print(v.name,'=',v.varValue)"
   ]
  },
  {
   "cell_type": "code",
   "execution_count": 15,
   "id": "07c6f2d8",
   "metadata": {},
   "outputs": [
    {
     "name": "stdout",
     "output_type": "stream",
     "text": [
      "total cost:  15.0\n"
     ]
    }
   ],
   "source": [
    "print('total cost: ',value(prob.objective))"
   ]
  },
  {
   "cell_type": "code",
   "execution_count": null,
   "id": "ac360cee",
   "metadata": {},
   "outputs": [],
   "source": []
  }
 ],
 "metadata": {
  "kernelspec": {
   "display_name": "Python 3",
   "language": "python",
   "name": "python3"
  },
  "language_info": {
   "codemirror_mode": {
    "name": "ipython",
    "version": 3
   },
   "file_extension": ".py",
   "mimetype": "text/x-python",
   "name": "python",
   "nbconvert_exporter": "python",
   "pygments_lexer": "ipython3",
   "version": "3.8.8"
  }
 },
 "nbformat": 4,
 "nbformat_minor": 5
}
