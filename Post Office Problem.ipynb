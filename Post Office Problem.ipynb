{
 "cells": [
  {
   "cell_type": "code",
   "execution_count": 6,
   "id": "f7c81635",
   "metadata": {},
   "outputs": [],
   "source": [
    "from pulp import *"
   ]
  },
  {
   "cell_type": "code",
   "execution_count": 7,
   "id": "b5aab55f",
   "metadata": {},
   "outputs": [],
   "source": [
    "prob = LpProblem('Post Office Problem', LpMinimize)"
   ]
  },
  {
   "cell_type": "code",
   "execution_count": 8,
   "id": "53272cc8",
   "metadata": {},
   "outputs": [],
   "source": [
    "#Menentukan Variabel \n",
    "x1 =LpVariable('banyaknya pekerja yang mulai bekerja pada hari ke 1',lowBound=0,cat=LpInteger)\n",
    "x2 =LpVariable('banyaknya pekerja yang mulai bekerja pada hari ke 2',lowBound=0,cat=LpInteger)\n",
    "x3 =LpVariable('banyaknya pekerja yang mulai bekerja pada hari ke 3',lowBound=0,cat=LpInteger)\n",
    "x4 =LpVariable('banyaknya pekerja yang mulai bekerja pada hari ke 4',lowBound=0,cat=LpInteger)\n",
    "x5 =LpVariable('banyaknya pekerja yang mulai bekerja pada hari ke 5',lowBound=0,cat=LpInteger)\n",
    "x6 =LpVariable('banyaknya pekerja yang mulai bekerja pada hari ke 6',lowBound=0,cat=LpInteger)\n",
    "x7 =LpVariable('banyaknya pekerja yang mulai bekerja pada hari ke 7',lowBound=0,cat=LpInteger)"
   ]
  },
  {
   "cell_type": "code",
   "execution_count": 9,
   "id": "3347be05",
   "metadata": {},
   "outputs": [],
   "source": [
    "#fungsi objective\n",
    "prob += x1+x2+x3+x4+x5+x6+x7"
   ]
  },
  {
   "cell_type": "code",
   "execution_count": 10,
   "id": "96427689",
   "metadata": {},
   "outputs": [],
   "source": [
    "#fungsi kendala\n",
    "prob+= x1+x4+x5+x6+x7>=17 #Senin\n",
    "prob+= x1+x2+x5+x6+x7>=13 #Selasa\n",
    "prob+= x1+x2+x3+x6+x7>=15 #Rabu\n",
    "prob+= x1+x2+x3+x4+x7>=19 #Kamis\n",
    "prob+= x1+x2+x3+x4+x5>=14 #Jumaat\n",
    "prob+= x2+x3+x4+x5+x6>=16 #Sabtu\n",
    "prob+= x3+x4+x5+x6+x7>=11 #Minggu"
   ]
  },
  {
   "cell_type": "code",
   "execution_count": 11,
   "id": "2c508192",
   "metadata": {},
   "outputs": [
    {
     "data": {
      "text/plain": [
       "1"
      ]
     },
     "execution_count": 11,
     "metadata": {},
     "output_type": "execute_result"
    }
   ],
   "source": [
    "prob.solve()"
   ]
  },
  {
   "cell_type": "code",
   "execution_count": 12,
   "id": "1c400c6d",
   "metadata": {},
   "outputs": [
    {
     "name": "stdout",
     "output_type": "stream",
     "text": [
      "banyaknya_pekerja_yang_mulai_bekerja_pada_hari_ke_1 = 2.0\n",
      "banyaknya_pekerja_yang_mulai_bekerja_pada_hari_ke_2 = 6.0\n",
      "banyaknya_pekerja_yang_mulai_bekerja_pada_hari_ke_3 = 0.0\n",
      "banyaknya_pekerja_yang_mulai_bekerja_pada_hari_ke_4 = 7.0\n",
      "banyaknya_pekerja_yang_mulai_bekerja_pada_hari_ke_5 = 0.0\n",
      "banyaknya_pekerja_yang_mulai_bekerja_pada_hari_ke_6 = 3.0\n",
      "banyaknya_pekerja_yang_mulai_bekerja_pada_hari_ke_7 = 5.0\n"
     ]
    }
   ],
   "source": [
    "for v in prob.variables():\n",
    "    print(v.name, \"=\", v.varValue)"
   ]
  },
  {
   "cell_type": "code",
   "execution_count": 13,
   "id": "53309d2f",
   "metadata": {},
   "outputs": [
    {
     "name": "stdout",
     "output_type": "stream",
     "text": [
      "banyaknya karyawan tetap yang dipekerjakan sebanyak  23.0\n"
     ]
    }
   ],
   "source": [
    "print(\"banyaknya karyawan tetap yang dipekerjakan sebanyak \", value(prob.objective))"
   ]
  },
  {
   "cell_type": "code",
   "execution_count": null,
   "id": "778d6d07",
   "metadata": {},
   "outputs": [],
   "source": []
  }
 ],
 "metadata": {
  "kernelspec": {
   "display_name": "Python 3",
   "language": "python",
   "name": "python3"
  },
  "language_info": {
   "codemirror_mode": {
    "name": "ipython",
    "version": 3
   },
   "file_extension": ".py",
   "mimetype": "text/x-python",
   "name": "python",
   "nbconvert_exporter": "python",
   "pygments_lexer": "ipython3",
   "version": "3.8.8"
  }
 },
 "nbformat": 4,
 "nbformat_minor": 5
}
